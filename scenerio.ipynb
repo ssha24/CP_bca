{
 "cells": [
  {
   "cell_type": "markdown",
   "id": "e74d9a10",
   "metadata": {},
   "source": [
    "#id even print"
   ]
  },
  {
   "cell_type": "code",
   "execution_count": 3,
   "id": "132a813a",
   "metadata": {},
   "outputs": [
    {
     "name": "stdout",
     "output_type": "stream",
     "text": [
      "124 234 "
     ]
    }
   ],
   "source": [
    "x=int(input())\n",
    "for i in range(x):\n",
    "    y=int(input())\n",
    "    if y%2==0:\n",
    "        print(y,end=\" \")"
   ]
  },
  {
   "cell_type": "code",
   "execution_count": null,
   "id": "1d3228f6",
   "metadata": {},
   "outputs": [
    {
     "name": "stdout",
     "output_type": "stream",
     "text": [
      "1 3\n"
     ]
    }
   ],
   "source": [
    "x=int(input())\n",
    "f=0\n",
    "p=0\n",
    "for i in range(x):\n",
    "    y=int(input())\n",
    "    if y>=35:\n",
    "        p+=1\n",
    "    else:\n",
    "        f+=1\n",
    "print(p,end=\" \")\n",
    "print(f)"
   ]
  },
  {
   "cell_type": "code",
   "execution_count": 6,
   "id": "3d058aee",
   "metadata": {},
   "outputs": [
    {
     "name": "stdout",
     "output_type": "stream",
     "text": [
      "78 56\n"
     ]
    }
   ],
   "source": [
    "max=0\n",
    "min=1000\n",
    "\n",
    "for i in range(int(input())):\n",
    "    y=int(input())\n",
    "    if max<=y:\n",
    "      max=y\n",
    "    if min>=y:\n",
    "      min=y \n",
    "print(max,min)\n",
    "      \n",
    "   "
   ]
  },
  {
   "cell_type": "code",
   "execution_count": 4,
   "id": "06311c04",
   "metadata": {},
   "outputs": [
    {
     "name": "stdout",
     "output_type": "stream",
     "text": [
      "2\n"
     ]
    }
   ],
   "source": [
    "#q4------------\n",
    "n=int(input())\n",
    "s=[]\n",
    "count=0\n",
    "for i in range(n):\n",
    "    x=list(map(int,input().split()))\n",
    "    s.append(x)\n",
    "for i in s:\n",
    "  if i[0]>=75 and i[1]>=80:\n",
    "    count+=1\n",
    "print(count)"
   ]
  },
  {
   "cell_type": "code",
   "execution_count": 6,
   "id": "5dae5de2",
   "metadata": {},
   "outputs": [
    {
     "name": "stdout",
     "output_type": "stream",
     "text": [
      "0\n"
     ]
    }
   ],
   "source": [
    "#Q5-----------------\n",
    "n=int(input())\n",
    "lst=list(map(int,input().split()))\n",
    "count=0\n",
    "for i in range(n):\n",
    "    for j in range(i+1,n):\n",
    "      if lst[i]+lst[j]==n:\n",
    "        count+=1\n",
    "print(count)\n",
    "\n",
    "    \n",
    "    "
   ]
  },
  {
   "cell_type": "code",
   "execution_count": 10,
   "id": "27172b7f",
   "metadata": {},
   "outputs": [
    {
     "name": "stdout",
     "output_type": "stream",
     "text": [
      "3\n"
     ]
    }
   ],
   "source": [
    "#Q6-----------------\n",
    "n=int(input())\n",
    "x=list(map(int,input().split()))\n",
    "count=0\n",
    "pval=0\n",
    "for i in range(n):\n",
    "     if x[i]==0:\n",
    "        count+=1\n",
    "        if count>pval:\n",
    "          pval=count\n",
    "     else:\n",
    "        count=0\n",
    "print(pval)\n",
    "     \n"
   ]
  },
  {
   "cell_type": "code",
   "execution_count": 24,
   "id": "dc49de9a",
   "metadata": {},
   "outputs": [
    {
     "name": "stdout",
     "output_type": "stream",
     "text": [
      "0\n"
     ]
    }
   ],
   "source": [
    "#Q7-----------\n",
    "x=int(input())\n",
    "y=list(map(int,input().split()))\n",
    "count=0\n",
    "pval=0\n",
    "for i in range(x):\n",
    "  if pval<y[i]:\n",
    "    pval=y[i]\n",
    "  elif y[i]>pval:\n",
    "    count+=1\n",
    "print(count)"
   ]
  }
 ],
 "metadata": {
  "kernelspec": {
   "display_name": "Python 3",
   "language": "python",
   "name": "python3"
  },
  "language_info": {
   "codemirror_mode": {
    "name": "ipython",
    "version": 3
   },
   "file_extension": ".py",
   "mimetype": "text/x-python",
   "name": "python",
   "nbconvert_exporter": "python",
   "pygments_lexer": "ipython3",
   "version": "3.11.9"
  }
 },
 "nbformat": 4,
 "nbformat_minor": 5
}

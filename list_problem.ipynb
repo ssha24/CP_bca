{
 "cells": [
  {
   "cell_type": "code",
   "execution_count": null,
   "id": "22ed5242",
   "metadata": {},
   "outputs": [
    {
     "name": "stdout",
     "output_type": "stream",
     "text": [
      "Sum of the numbers is: 15\n"
     ]
    }
   ],
   "source": [
    "#Q1---------Sum of list\n",
    "x=list(map(int,input(\"Enter the numbers: \").split()))\n",
    "sum=0\n",
    "for i in x:\n",
    "  sum+=i\n",
    "print(\"Sum of the numbers is:\",sum)"
   ]
  },
  {
   "cell_type": "code",
   "execution_count": 15,
   "id": "4ffee4f9",
   "metadata": {},
   "outputs": [
    {
     "name": "stdout",
     "output_type": "stream",
     "text": [
      "Updated list is: [2, 3, 4, 5]\n"
     ]
    }
   ],
   "source": [
    "#q2------------------Copy the array\n",
    "A=list(map(int,input(\"enter a list \").split()))\n",
    "b=int(input(\"Enter the number to be searched: \"))\n",
    "for i in range(len(A)):\n",
    "  A[i]=A[i]+b\n",
    "print(\"Updated list is:\",A)"
   ]
  },
  {
   "cell_type": "code",
   "execution_count": null,
   "id": "871ef20f",
   "metadata": {},
   "outputs": [
    {
     "name": "stdout",
     "output_type": "stream",
     "text": [
      "The largest number is: 8\n",
      "The smallest number is: 1\n"
     ]
    }
   ],
   "source": [
    "#Q3----------------Max and Min in the list\n",
    "x=list(map(int,input(\"Enter the numbers: \").split()))\n",
    "pval=0\n",
    "for i in x:\n",
    "  if pval<i:\n",
    "    pval=i\n",
    "print(\"The largest number is:\",pval)\n",
    "for i in x:\n",
    "  if pval>i:\n",
    "    pval=i\n",
    "print(\"The smallest number is:\",pval)\n"
   ]
  },
  {
   "cell_type": "code",
   "execution_count": null,
   "id": "14f2ddcd",
   "metadata": {},
   "outputs": [
    {
     "name": "stdout",
     "output_type": "stream",
     "text": [
      "Element found at index: 2\n"
     ]
    }
   ],
   "source": [
    "#Q4------------------Search an element in the list\n",
    "A=list(map(int,input(\"Enter the numbers: \").split()))\n",
    "b=int(input(\"Enter number for search\"))\n",
    "for i in range(len(A)):\n",
    "  if A[i]==b:\n",
    "    print(\"Element found at index:\",i)\n",
    "  break"
   ]
  },
  {
   "cell_type": "code",
   "execution_count": null,
   "id": "ea6e8830",
   "metadata": {},
   "outputs": [
    {
     "name": "stdout",
     "output_type": "stream",
     "text": [
      "Negative number found: -9\n",
      "Negative number found: -9\n"
     ]
    }
   ],
   "source": [
    "#Q5-------------Negative integers\n",
    "a=list(map(int,input(\"Enter the numbers: \").split()))\n",
    "for i in a:\n",
    "  if i<0:\n",
    "    print(\"Negative number found:\",i)"
   ]
  },
  {
   "cell_type": "code",
   "execution_count": null,
   "id": "4887909b",
   "metadata": {},
   "outputs": [
    {
     "name": "stdout",
     "output_type": "stream",
     "text": [
      "Difference between even and odd is: 0\n"
     ]
    }
   ],
   "source": [
    "#Q6--------------Even odd Elements\n",
    "A=list(map(int,input(\"Enter the numbers: \").split()))\n",
    "diff=0\n",
    "for i in A:\n",
    "  if i%2==0:\n",
    "    diff+=1\n",
    "  else:\n",
    "    diff-=1\n",
    "print(\"Difference between even and odd is:\",diff)\n"
   ]
  },
  {
   "cell_type": "code",
   "execution_count": 21,
   "id": "0290a129",
   "metadata": {},
   "outputs": [
    {
     "name": "stdout",
     "output_type": "stream",
     "text": [
      "Even numbers are: 2 4 \n",
      "Odd numbers are: 1 3 "
     ]
    }
   ],
   "source": [
    "#Q7--------------Separate Even and Odd\n",
    "A=list(map(int,input(\"Enter the numbers: \").split()))\n",
    "print(\"Even numbers are:\",end=\" \")\n",
    "for i in A:\n",
    "  if i%2==0:\n",
    "    print(i,end=\" \")\n",
    "print()\n",
    "print(\"Odd numbers are:\",end=\" \")\n",
    "for i in A:\n",
    "  if i%2!=0:\n",
    "    print(i,end=\" \")"
   ]
  },
  {
   "cell_type": "code",
   "execution_count": 22,
   "id": "a4d5b7ca",
   "metadata": {},
   "outputs": [
    {
     "name": "stdout",
     "output_type": "stream",
     "text": [
      "Square of the array is: [1, 4, 9, 16, 25, 36]\n"
     ]
    }
   ],
   "source": [
    "#Q8--------------Square of array\n",
    "A=list(map(int,input(\"Enter the numbers: \").split()))\n",
    "for i in range(len(A)):\n",
    "  A[i]=A[i]**2\n",
    "print(\"Square of the array is:\",A)"
   ]
  },
  {
   "cell_type": "code",
   "execution_count": 23,
   "id": "b3deae9a",
   "metadata": {},
   "outputs": [
    {
     "name": "stdout",
     "output_type": "stream",
     "text": [
      "Square of the array is: [1, 8, 27, 64]\n"
     ]
    }
   ],
   "source": [
    "#Q9--------------cube of array\n",
    "A=list(map(int,input(\"Enter the numbers: \").split()))\n",
    "for i in range(len(A)):\n",
    "  A[i]=A[i]**2*A[i]\n",
    "print(\"Square of the array is:\",A)"
   ]
  },
  {
   "cell_type": "code",
   "execution_count": 24,
   "id": "c8995152",
   "metadata": {},
   "outputs": [
    {
     "name": "stdout",
     "output_type": "stream",
     "text": [
      "Reversed array is: [7, 6, 5, 4, 3, 2, 1]\n"
     ]
    }
   ],
   "source": [
    "#Q10-------------Reverse the array\n",
    "A=list(map(int,input(\"Enter the numbers: \").split()))\n",
    "A.reverse()\n",
    "print(\"Reversed array is:\",A)"
   ]
  },
  {
   "cell_type": "code",
   "execution_count": 31,
   "id": "e9371333",
   "metadata": {},
   "outputs": [
    {
     "name": "stdout",
     "output_type": "stream",
     "text": [
      "Sum of two arrays is: [2, 4, 6]\n"
     ]
    }
   ],
   "source": [
    "A=list(map(int,input(\"Enter the numbers: \").split()))\n",
    "B=list(map(int,input(\"Enter the numbers: \").split()))\n",
    "C=[]\n",
    "if len(A)==len(B):\n",
    "  for i in range(len(A)):\n",
    "    C.append(A[i]+B[i])\n",
    "  print(\"Sum of two arrays is:\",C)\n",
    "else:\n",
    "  print(\"Arrays are of different sizes\")"
   ]
  },
  {
   "cell_type": "code",
   "execution_count": 32,
   "id": "56048821",
   "metadata": {},
   "outputs": [
    {
     "name": "stdout",
     "output_type": "stream",
     "text": [
      "[2, 4, 6, 8, 10, 12, 14, 16, 18, 20]\n",
      "[2, 4, 6, 8, 10, 12, 14, 16, 18, 20]\n",
      "[6, 8, 10]\n",
      "[6, 8, 10, 12, 14, 16, 18, 20]\n",
      "[6, 8, 10, 12, 14, 16, 18, 20]\n",
      "[2, 4]\n",
      "[2, 6, 10, 14, 18]\n",
      "[4, 8, 12, 16, 20]\n",
      "[6, 10, 14, 18]\n"
     ]
    }
   ],
   "source": [
    "#Q12--------------Find the out put\n",
    "list = [2,4,6,8,10,12,14,16,18,20]\n",
    "print(list[:])\n",
    "print(list[::])\n",
    "print(list[2:5])\n",
    "print(list[2:])\n",
    "print(list[2::])\n",
    "print(list[:2])\n",
    "print(list[::2])\n",
    "print(list[1::2])\n",
    "print(list[2:10:2])"
   ]
  },
  {
   "cell_type": "code",
   "execution_count": null,
   "id": "f240cbff",
   "metadata": {},
   "outputs": [
    {
     "name": "stdout",
     "output_type": "stream",
     "text": [
      "1\n",
      "0\n"
     ]
    }
   ],
   "source": [
    "text=list(map(str,input().split()))\n",
    "brokenLetters=input(\"Enter the broken letters: \")\n",
    "k=0\n",
    "for i in text:\n",
    "  for j in brokenLetters  :\n",
    "    if j in i:\n",
    "      if k==j:\n",
    "        print(0) \n",
    "      else:\n",
    "        k=j\n",
    "        print(1) "
   ]
  },
  {
   "cell_type": "code",
   "execution_count": null,
   "id": "f069c508",
   "metadata": {},
   "outputs": [],
   "source": []
  }
 ],
 "metadata": {
  "kernelspec": {
   "display_name": "Python 3",
   "language": "python",
   "name": "python3"
  },
  "language_info": {
   "codemirror_mode": {
    "name": "ipython",
    "version": 3
   },
   "file_extension": ".py",
   "mimetype": "text/x-python",
   "name": "python",
   "nbconvert_exporter": "python",
   "pygments_lexer": "ipython3",
   "version": "3.11.9"
  }
 },
 "nbformat": 4,
 "nbformat_minor": 5
}

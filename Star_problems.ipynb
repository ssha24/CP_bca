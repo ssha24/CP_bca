{
 "cells": [
  {
   "cell_type": "code",
   "execution_count": 5,
   "id": "9b32e1ed",
   "metadata": {},
   "outputs": [
    {
     "name": "stdout",
     "output_type": "stream",
     "text": [
      "*     *\n",
      "*    *\n",
      "*   *\n",
      "*  *\n",
      "* *\n"
     ]
    }
   ],
   "source": [
    "for i in range(5,0,-1):\n",
    "    print(\"*\", end=\"\")\n",
    "    print(\" \"*i,end=\"\")\n",
    "    print(\"*\")"
   ]
  },
  {
   "cell_type": "code",
   "execution_count": 6,
   "id": "f6581e92",
   "metadata": {},
   "outputs": [
    {
     "name": "stdout",
     "output_type": "stream",
     "text": [
      "     *\n",
      "    **\n",
      "   ***\n",
      "  ****\n",
      " *****\n"
     ]
    }
   ],
   "source": [
    "x=1\n",
    "for i in range(5,0,-1):\n",
    "    print(\" \"*i,end=\"\")\n",
    "    print(\"*\"*x)\n",
    "    x+=1"
   ]
  },
  {
   "cell_type": "code",
   "execution_count": 7,
   "id": "fd197d2e",
   "metadata": {},
   "outputs": [
    {
     "name": "stdout",
     "output_type": "stream",
     "text": [
      "***** \n",
      "****  \n",
      "***   \n",
      "**    \n",
      "*     \n"
     ]
    }
   ],
   "source": [
    "x=1\n",
    "for i in range(5,0,-1):\n",
    "    print(\"*\"*i,end=\"\")\n",
    "    print(\" \"*x)\n",
    "    x+=1"
   ]
  },
  {
   "cell_type": "code",
   "execution_count": 8,
   "id": "838d162b",
   "metadata": {},
   "outputs": [
    {
     "name": "stdout",
     "output_type": "stream",
     "text": [
      "**********\n",
      "****  ****\n",
      "***    ***\n",
      "**      **\n",
      "*        *\n"
     ]
    }
   ],
   "source": [
    "x=0\n",
    "for i in range(5,0,-1):\n",
    "    print(\"*\"*i,end=\"\")\n",
    "    print(\" \"*x,end=\"\")\n",
    "    print(\" \"*x,end=\"\")\n",
    "    print(\"*\"*i)\n",
    "    x+=1"
   ]
  },
  {
   "cell_type": "code",
   "execution_count": 9,
   "id": "76d0202b",
   "metadata": {},
   "outputs": [
    {
     "name": "stdout",
     "output_type": "stream",
     "text": [
      "*        *\n",
      "**      **\n",
      "***    ***\n",
      "****  ****\n",
      "**********\n"
     ]
    }
   ],
   "source": [
    "x=4\n",
    "for i in range(1,6,1):\n",
    "    print(\"*\"*i,end=\"\")\n",
    "    print(\" \"*x,end=\"\")\n",
    "    print(\" \"*x,end=\"\")\n",
    "    print(\"*\"*i)\n",
    "    x-=1"
   ]
  },
  {
   "cell_type": "code",
   "execution_count": 10,
   "id": "b3b8d3a1",
   "metadata": {},
   "outputs": [
    {
     "name": "stdout",
     "output_type": "stream",
     "text": [
      "1\n",
      "12\n",
      "123\n",
      "1234\n",
      "12345\n"
     ]
    }
   ],
   "source": [
    "x=1\n",
    "for i in range(1,6):\n",
    "  for j in range(1,i+1):\n",
    "\n",
    "      print(j,end=\"\")\n",
    "  print()\n",
    "  "
   ]
  },
  {
   "cell_type": "code",
   "execution_count": 11,
   "id": "eb4362b5",
   "metadata": {},
   "outputs": [
    {
     "name": "stdout",
     "output_type": "stream",
     "text": [
      "12345\n",
      "1234\n",
      "123\n",
      "12\n",
      "1\n"
     ]
    }
   ],
   "source": [
    "x=1\n",
    "for i in range(6,1,-1):\n",
    "  for j in range(1,i):\n",
    "\n",
    "      print(j,end=\"\")\n",
    "  print()\n",
    "  "
   ]
  },
  {
   "cell_type": "code",
   "execution_count": 12,
   "id": "39236b32",
   "metadata": {},
   "outputs": [
    {
     "name": "stdout",
     "output_type": "stream",
     "text": [
      "**********\n",
      "****  ****\n",
      "***    ***\n",
      "**      **\n",
      "*        *\n",
      "*        *\n",
      "**      **\n",
      "***    ***\n",
      "****  ****\n",
      "**********\n"
     ]
    }
   ],
   "source": [
    "x=0\n",
    "for i in range(5,0,-1):\n",
    "    print(\"*\"*i,end=\"\")\n",
    "    print(\" \"*x,end=\"\")\n",
    "    print(\" \"*x,end=\"\")\n",
    "    print(\"*\"*i)\n",
    "    x+=1\n",
    "x=4\n",
    "for i in range(1,6,1):\n",
    "    print(\"*\"*i,end=\"\")\n",
    "    print(\" \"*x,end=\"\")\n",
    "    print(\" \"*x,end=\"\")\n",
    "    print(\"*\"*i)\n",
    "    x-=1"
   ]
  },
  {
   "cell_type": "code",
   "execution_count": 13,
   "id": "7feeabfa",
   "metadata": {},
   "outputs": [
    {
     "name": "stdout",
     "output_type": "stream",
     "text": [
      "1 \n",
      "2 3 \n",
      "4 5 6 \n",
      "7 8 9 10 \n"
     ]
    }
   ],
   "source": [
    "x=1\n",
    "for i in range (1,5):\n",
    "    for j in range(i):\n",
    "        print(x,end=\" \")\n",
    "        x+=1\n",
    "    print()"
   ]
  },
  {
   "cell_type": "code",
   "execution_count": 14,
   "id": "24839dbc",
   "metadata": {},
   "outputs": [
    {
     "name": "stdout",
     "output_type": "stream",
     "text": [
      "*    \n",
      "**    \n",
      "***    \n",
      "****    \n",
      "*****    \n",
      "******    \n",
      "*****    \n",
      "****    \n",
      "***    \n",
      "**    \n",
      "*    \n"
     ]
    }
   ],
   "source": [
    "x=4\n",
    "for i in range(1,6,1):\n",
    "    print(\"*\"*i,end=\"\")\n",
    "    print(\" \"*x,end=\"\")\n",
    "    print()\n",
    "for i in range(6,0,-1):\n",
    "    print(\"*\"*i,end=\"\")\n",
    "    print(\" \"*x,end=\"\")\n",
    "    print()"
   ]
  },
  {
   "cell_type": "code",
   "execution_count": 12,
   "id": "1aba72c0",
   "metadata": {},
   "outputs": [
    {
     "name": "stdout",
     "output_type": "stream",
     "text": [
      "12345*\n",
      "1234**\n",
      "123***\n",
      "12****\n",
      "1*****\n"
     ]
    }
   ],
   "source": [
    "x=1\n",
    "for i in range(6,1,-1):\n",
    "  for j in range(1,i):\n",
    "    print(j,end=\"\")\n",
    "  print(\"*\"*x,end=\"\")\n",
    "  x+=1\n",
    "  print()"
   ]
  }
 ],
 "metadata": {
  "kernelspec": {
   "display_name": "Python 3",
   "language": "python",
   "name": "python3"
  },
  "language_info": {
   "codemirror_mode": {
    "name": "ipython",
    "version": 3
   },
   "file_extension": ".py",
   "mimetype": "text/x-python",
   "name": "python",
   "nbconvert_exporter": "python",
   "pygments_lexer": "ipython3",
   "version": "3.12.10"
  }
 },
 "nbformat": 4,
 "nbformat_minor": 5
}
